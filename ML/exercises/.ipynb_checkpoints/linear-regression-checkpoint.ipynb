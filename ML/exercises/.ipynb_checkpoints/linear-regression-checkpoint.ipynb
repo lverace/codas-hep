{
 "cells": [
  {
   "cell_type": "code",
   "execution_count": 4,
   "id": "396f0372",
   "metadata": {
    "trusted": false
   },
   "outputs": [
    {
     "data": {
      "image/png": "[encoded data removed]",
      "text/plain": [
       "<Figure size 600x400 with 1 Axes>"
      ]
     },
     "metadata": {},
     "output_type": "display_data"
    }
   ],
   "source": [
    "import numpy as np\n",
    "import matplotlib.pyplot as plt\n",
    "from mpl_toolkits.mplot3d import Axes3D\n",
    "from util import load_house_data, plot_housing_prices, plot_fit_landscape_and_loss, \\\n",
    "    animate_gradient_descent, plot_loss_landscape\n",
    "\n",
    "# load the housing prices data\n",
    "sizes, prices, _ = load_house_data('data/housing_prices.txt')\n",
    "\n",
    "# plot the data\n",
    "plot_housing_prices(sizes, prices)"
   ]
  },
  {
   "cell_type": "code",
   "execution_count": null,
   "id": "9f2e1489",
   "metadata": {
    "trusted": false
   },
   "outputs": [],
   "source": [
    "# scale the data such that the features are centered around zero and have reasonable range\n",
    "####### YOUR CODE HERE #######\n",
    "x = ...\n",
    "y = ...\n",
    "####### END YOUR CODE ########\n",
    "\n",
    "# plot the scaled data\n",
    "plot_housing_prices(x, y, scaled=True)"
   ]
  },
  {
   "cell_type": "code",
   "execution_count": null,
   "id": "9e49dad8",
   "metadata": {
    "trusted": false
   },
   "outputs": [],
   "source": [
    "# Calculate loss (Mean Squared Error) for each combination of w and b\n",
    "def calculate_loss(w, b, x_data, y_data):\n",
    "    ####### YOUR CODE HERE #######\n",
    "    y_pred = ...\n",
    "    loss = ...\n",
    "    ###### END YOUR CODE ########\n",
    "    return loss\n",
    "\n",
    "# Create ranges for w and b to plot loss surface\n",
    "w_range = np.linspace(-1, 1.5, 50)\n",
    "b_range = np.linspace(-0.5, 0.5, 50)\n",
    "W, B = np.meshgrid(w_range, b_range)\n",
    "\n",
    "# Calculate loss for each combination of w and b\n",
    "Loss = np.zeros_like(W)\n",
    "for i in range(W.shape[0]):\n",
    "    for j in range(W.shape[1]):\n",
    "        Loss[i, j] = calculate_loss(W[i, j], B[i, j], x, y)\n",
    "\n",
    "# Plot the loss surface and the data points\n",
    "plot_loss_landscape(W, B, Loss)"
   ]
  },
  {
   "cell_type": "code",
   "execution_count": null,
   "id": "5378cb59",
   "metadata": {
    "trusted": false
   },
   "outputs": [],
   "source": [
    "# Perform gradient descent to get optimization path\n",
    "def gradient_descent_path(x_data, y_data, learning_rate=0.05, n_iterations=20):\n",
    "    \"\"\"Perform gradient descent and return the path\"\"\"\n",
    "    # Initialize parameters (this would typically be random)\n",
    "    w = -0.2\n",
    "    b = 0.3\n",
    "    \n",
    "    # Store path\n",
    "    w_path = [w]\n",
    "    b_path = [b]\n",
    "    loss_path = [calculate_loss(w, b, x_data, y_data)]\n",
    "    \n",
    "    for i in range(n_iterations):\n",
    "        ###### YOUR CODE HERE #######\n",
    "        # Calculate predictions\n",
    "        y_pred = ...\n",
    "        \n",
    "        # Calculate gradients\n",
    "        dw = ...\n",
    "        db = ...\n",
    "        \n",
    "        # Update parameters\n",
    "        w -= ...\n",
    "        b -= ...\n",
    "        ###### END YOUR CODE ########\n",
    "        \n",
    "        # Store path\n",
    "        w_path.append(w)\n",
    "        b_path.append(b)\n",
    "        loss_path.append(calculate_loss(w, b, x_data, y_data))\n",
    "    \n",
    "    return np.array(w_path), np.array(b_path), np.array(loss_path)\n",
    "\n",
    "\n",
    "w_path, b_path, loss_path = gradient_descent_path(x, y, learning_rate=0.2, n_iterations=40)\n",
    "\n",
    "anim = animate_gradient_descent(\n",
    "    W, B, Loss, x, y, w_path, b_path, loss_path,\n",
    "    # save_path=\"output/gradient-descent-animation.mp4\",\n",
    ")\n",
    "\n",
    "from IPython.display import HTML\n",
    "HTML(anim.to_jshtml())\n"
   ]
  }
 ],
 "metadata": {
  "kernelspec": {
   "display_name": "Python 3",
   "language": "python",
   "name": "python3"
  },
  "language_info": {
   "codemirror_mode": {
    "name": "ipython",
    "version": 3
   },
   "file_extension": ".py",
   "mimetype": "text/x-python",
   "name": "python",
   "nbconvert_exporter": "python",
   "pygments_lexer": "ipython3",
   "version": "3.12.9"
  }
 },
 "nbformat": 4,
 "nbformat_minor": 5
}
